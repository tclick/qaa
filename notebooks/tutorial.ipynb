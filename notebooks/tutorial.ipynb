{
 "cells": [
  {
   "cell_type": "markdown",
   "metadata": {
    "pycharm": {
     "name": "#%% md\n"
    }
   },
   "source": [
    "Tutorial for Quasi-Anharmonic Analysis (QAA)\n",
    "============================================\n",
    "\n",
    "This tutorial includes several notebooks describing the different subcommands\n",
    "within the `qaa` command. The recommended way to complete this tutorial is in\n",
    "the following order.\n",
    "\n",
    "1. [Alignment of the trajectory](./align.ipynb)\n",
    "\n",
    "2. [Dimensional reduction using PCA](./pca.ipynb)\n",
    "\n",
    "3. [Quasi-anharmonic analysis (QAA)](./qaa.ipynb)\n",
    "\n",
    "4. [Cluster analysis (optional)](./cluster.ipynb)\n",
    "\n",
    "Questions\n",
    "=========\n",
    "\n",
    "If you have any questions or comments, contact either Dr. Timothy Click\n",
    "(<tclick@alumni.ou.edu>) or Dr. Pratul Agarwal (<pratul@okstate.edu>)."
   ]
  }
 ],
 "metadata": {
  "kernelspec": {
   "display_name": "Python 3",
   "language": "python",
   "name": "python3"
  },
  "language_info": {
   "codemirror_mode": {
    "name": "ipython",
    "version": 3
   },
   "file_extension": ".py",
   "mimetype": "text/x-python",
   "name": "python",
   "nbconvert_exporter": "python",
   "pygments_lexer": "ipython3",
   "version": "3.8.8"
  }
 },
 "nbformat": 4,
 "nbformat_minor": 4
}
