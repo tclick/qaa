{
 "cells": [
  {
   "cell_type": "markdown",
   "metadata": {
    "collapsed": true,
    "pycharm": {
     "name": "#%% md\n"
    }
   },
   "source": [
    "Quasi-Anharmonic Analysis\n",
    "=========================\n",
    "\n",
    "Introduction\n",
    "------------\n",
    "\n",
    "Quasi-anharmonic analysis (QAA) uses a fourth-order independent component\n",
    "analysis (ICA) method to capture additional information about the system. This\n",
    "is a spatially independent analysis in which the unmixing matrix is projected\n",
    "onto the dimensionally-reduced matrix, which corresponds to the frames of the\n",
    "molecular dynamics simulation.\n",
    "\n",
    "After we have determined the number of dimensions from PCA, we can run QAA. For\n",
    "our case, we'll reduce the dimensions to 50.\n",
    "\n",
    "Running QAA\n",
    "-----------\n",
    "\n",
    "**Note this may take a while, depending upon the size of the trajectory.**"
   ]
  },
  {
   "cell_type": "code",
   "execution_count": null,
   "outputs": [],
   "source": [
    "!qaa qaa -s output/average.pdb -f output/align.nc -o output \\\n",
    "    -l output/qaa.log -n 50 -v"
   ],
   "metadata": {
    "collapsed": false,
    "pycharm": {
     "name": "#%%\n"
    }
   }
  },
  {
   "cell_type": "markdown",
   "source": [
    "Visualize the data\n",
    "------------------"
   ],
   "metadata": {
    "collapsed": false
   }
  },
  {
   "cell_type": "code",
   "execution_count": null,
   "outputs": [],
   "source": [
    "%matplotlib notebook\n",
    "import holoviews as hv\n",
    "import numpy as np\n",
    "import pandas as pd\n",
    "from holoviews import opts\n",
    "\n",
    "hv.extension(\"plotly\")"
   ],
   "metadata": {
    "collapsed": false,
    "pycharm": {
     "name": "#%%\n"
    }
   }
  },
  {
   "cell_type": "markdown",
   "source": [
    "### QAA projections"
   ],
   "metadata": {
    "collapsed": false
   }
  },
  {
   "cell_type": "code",
   "execution_count": null,
   "outputs": [],
   "source": [
    "projection = pd.read_csv(\"output/projection.csv\", header=0)\n",
    "dataset = hv.Dataset(projection)\n",
    "scatter = hv.Scatter3D(dataset, kdims=[\"PC1\", \"PC2\", \"PC3\"])\n",
    "scatter.opts(title=\"First 3 PCs\")"
   ],
   "metadata": {
    "collapsed": false,
    "pycharm": {
     "name": "#%%\n"
    }
   }
  }
 ],
 "metadata": {
  "kernelspec": {
   "display_name": "Python 3",
   "language": "python",
   "name": "python3"
  },
  "language_info": {
   "codemirror_mode": {
    "name": "ipython",
    "version": 2
   },
   "file_extension": ".py",
   "mimetype": "text/x-python",
   "name": "python",
   "nbconvert_exporter": "python",
   "pygments_lexer": "ipython2",
   "version": "2.7.6"
  }
 },
 "nbformat": 4,
 "nbformat_minor": 0
}
