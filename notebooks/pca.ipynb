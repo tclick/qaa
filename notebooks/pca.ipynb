{
 "cells": [
  {
   "cell_type": "markdown",
   "metadata": {
    "pycharm": {
     "name": "#%% md\n"
    }
   },
   "source": [
    "Principal Component Analysis (PCA)\n",
    "==================================\n",
    "\n",
    "Introduction\n",
    "------------\n",
    "\n",
    "After alignment, the multidimensional system must be reduced, and one way to\n",
    "accomplish this is through principal component analysis (PCA). We read in our\n",
    "trajectory and perform PCA on the coordinates. We can then determine the number\n",
    "of components needed to use for QAA. We typically want to have enough\n",
    "information captured within the decomposition (i.e. $\\geq 95\\%$). This can be\n",
    "determined by plotting the explained variance ratio. Additionally, the program\n",
    "displays the number of components needed to capture various percentages\n",
    "($85\\% \\leq x \\leq 95\\%$ in increments of 5%) along with the percentages of\n",
    "captured information using 50 or 100 components."
   ]
  },
  {
   "cell_type": "markdown",
   "metadata": {
    "pycharm": {
     "name": "#%% md\n"
    }
   },
   "source": [
    "Perform PCA\n",
    "-----------"
   ]
  },
  {
   "cell_type": "code",
   "execution_count": null,
   "metadata": {
    "pycharm": {
     "name": "#%%\n"
    },
    "tags": []
   },
   "outputs": [],
   "source": [
    "!qaa pca -s output/average.pdb -f output/align.nc -o output \\\n",
    "    -l output/pca.log -v"
   ]
  },
  {
   "cell_type": "markdown",
   "metadata": {},
   "source": [
    "Visualize the data\n",
    "------------------\n",
    "\n",
    "We can create plots of the data using `qaa plot`."
   ]
  },
  {
   "cell_type": "code",
   "execution_count": null,
   "outputs": [],
   "source": [
    "!qaa plot -i output/projection.csv -o output/projection.png \\\n",
    "    -l output/proj-plot.log --pca -v"
   ],
   "metadata": {
    "collapsed": false,
    "pycharm": {
     "name": "#%%\n"
    }
   }
  },
  {
   "cell_type": "markdown",
   "source": [
    "<img src=output/projection.png>\n",
    "\n",
    "Or, in a Jupyter notebook, we can use the following code to analyze the data\n",
    "interactively."
   ],
   "metadata": {
    "collapsed": false,
    "pycharm": {
     "name": "#%% md\n"
    }
   }
  },
  {
   "cell_type": "code",
   "execution_count": null,
   "metadata": {
    "collapsed": false,
    "jupyter": {
     "outputs_hidden": false
    },
    "pycharm": {
     "name": "#%%\n"
    }
   },
   "outputs": [],
   "source": [
    "%matplotlib notebook\n",
    "import holoviews as hv\n",
    "import numpy as np\n",
    "import pandas as pd\n",
    "from holoviews import opts\n",
    "\n",
    "hv.extension(\"plotly\")"
   ]
  },
  {
   "cell_type": "markdown",
   "metadata": {
    "pycharm": {
     "name": "#%% md\n"
    }
   },
   "source": [
    "### Explained variance ratio"
   ]
  },
  {
   "cell_type": "code",
   "execution_count": null,
   "metadata": {
    "collapsed": false,
    "jupyter": {
     "outputs_hidden": false
    },
    "pycharm": {
     "name": "#%%\n"
    }
   },
   "outputs": [],
   "source": [
    "data = pd.read_csv(\"output/explained_variance_ratio.csv\", header=0)\n",
    "\n",
    "evr = hv.Curve(data, kdims=\"Component\", vdims=\"Percentage of Explained Variance\")\n",
    "evr.opts(opts.Curve(color=\"black\", line_width=1.5))"
   ]
  },
  {
   "cell_type": "markdown",
   "metadata": {
    "pycharm": {
     "name": "#%% md\n"
    }
   },
   "source": [
    "### PCA projections"
   ]
  },
  {
   "cell_type": "code",
   "execution_count": null,
   "metadata": {
    "collapsed": false,
    "jupyter": {
     "outputs_hidden": false
    },
    "pycharm": {
     "name": "#%%\n"
    }
   },
   "outputs": [],
   "source": [
    "projection = pd.read_csv(\"output/projection.csv\", header=0)\n",
    "dataset = hv.Dataset(projection)\n",
    "scatter = hv.Scatter3D(dataset, kdims=[\"PC1\", \"PC2\", \"PC3\"])\n",
    "scatter.opts(title=\"First 3 PCs\")"
   ]
  }
 ],
 "metadata": {
  "kernelspec": {
   "display_name": "Python (qaa-3.9)",
   "language": "python",
   "name": "qaa-3.9"
  },
  "language_info": {
   "codemirror_mode": {
    "name": "ipython",
    "version": 3
   },
   "file_extension": ".py",
   "mimetype": "text/x-python",
   "name": "python",
   "nbconvert_exporter": "python",
   "pygments_lexer": "ipython3",
   "version": "3.9.4"
  }
 },
 "nbformat": 4,
 "nbformat_minor": 4
}
