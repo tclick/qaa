{
 "cells": [
  {
   "cell_type": "markdown",
   "metadata": {
    "pycharm": {
     "name": "#%% md\n"
    }
   },
   "source": [
    "Trajectory alignment\n",
    "====================\n",
    "\n",
    "Introduction\n",
    "------------\n",
    "\n",
    "The first step in QAA is to ensure that the trajectory is aligned. Normally, we\n",
    "align the trajectory in post-processing by stripping the trajectory of solvent\n",
    "and ensuring that it is within the periodic boundaries. For QAA, we align the\n",
    "trajectory by its average structure and outputting both a topology and new\n",
    "trajectory containing the atoms to analyze (e.g., C$\\alpha$).\n",
    "\n",
    "Although the average structure does not necessarily give an accurate\n",
    "representation of the system, it provides a useful way to align the trajectory.\n",
    "To align by the average structure, we align using the [Kabsch algorithm][1].\n",
    "\n",
    "[1]: https://en.wikipedia.org/wiki/Kabsch_algorithm"
   ]
  },
  {
   "cell_type": "code",
   "execution_count": 1,
   "metadata": {
    "collapsed": false,
    "jupyter": {
     "outputs_hidden": false
    },
    "pycharm": {
     "name": "#%%\n"
    }
   },
   "outputs": [
    {
     "name": "stdout",
     "output_type": "stream",
     "text": [
      "qaa.commands.cmd_align INFO     Loading /Users/tclick/Developer/python/qaa/notebooks/data/protein.parm7 and ('/Users/tclick/Developer/python/qaa/notebooks/data/protein.nc',)\n",
      "qaa.commands.cmd_align INFO     Saving average structure to /Users/tclick/Developer/python/qaa/notebooks/output/average.pdb\n",
      "qaa.commands.cmd_align INFO     Aligning trajectory to average structures\n",
      "qaa.libs.align INFO     Iteration 1 -- error: 0.029976\n",
      "qaa.libs.align INFO     Iteration 2 -- error: 0.000111\n",
      "qaa.commands.cmd_align INFO     Saving aligned trajectory to /Users/tclick/Developer/python/qaa/notebooks/output/align.nc}\n",
      "qaa.commands.cmd_align INFO     Total execution time: 00:00:05\n"
     ]
    }
   ],
   "source": [
    "!qaa align -s data/protein.parm7 -f data/protein.nc -r output/average.pdb \\\n",
    "    -o output/align.nc -m ca -l output/align_traj.log -v"
   ]
  },
  {
   "cell_type": "markdown",
   "metadata": {
    "pycharm": {
     "name": "#%% md\n"
    }
   },
   "source": [
    "Visualize the aligned trajectory\n",
    "--------------------------------\n",
    "\n",
    "### Import the data"
   ]
  },
  {
   "cell_type": "code",
   "execution_count": 2,
   "metadata": {
    "collapsed": false,
    "jupyter": {
     "outputs_hidden": false
    },
    "pycharm": {
     "name": "#%%\n"
    }
   },
   "outputs": [
    {
     "data": {
      "application/vnd.jupyter.widget-view+json": {
       "model_id": "cd0f44ef385b4b0696fe74f44db229b3",
       "version_major": 2,
       "version_minor": 0
      },
      "text/plain": []
     },
     "metadata": {},
     "output_type": "display_data"
    }
   ],
   "source": [
    "from pathlib import Path\n",
    "\n",
    "import mdtraj as md\n",
    "import nglview as nv\n",
    "from ipywidgets import interactive, VBox"
   ]
  },
  {
   "cell_type": "markdown",
   "metadata": {
    "pycharm": {
     "name": "#%% md\n"
    }
   },
   "source": [
    "### Load the aligned trajectory"
   ]
  },
  {
   "cell_type": "code",
   "execution_count": 3,
   "metadata": {
    "collapsed": false,
    "jupyter": {
     "outputs_hidden": false
    },
    "pycharm": {
     "name": "#%%\n"
    }
   },
   "outputs": [],
   "source": [
    "top = md.load_topology(\"output/average.pdb\")\n",
    "traj = md.load(\"output/align.nc\", top=top, stride=10)\n",
    "\n",
    "# Center trajectory at origin\n",
    "traj.center_coordinates(mass_weighted=True)"
   ]
  },
  {
   "cell_type": "markdown",
   "metadata": {
    "pycharm": {
     "name": "#%% md\n"
    }
   },
   "source": [
    "### Visualize the trajectory"
   ]
  },
  {
   "cell_type": "code",
   "execution_count": 4,
   "metadata": {
    "collapsed": false,
    "jupyter": {
     "outputs_hidden": false
    },
    "pycharm": {
     "name": "#%%\n"
    }
   },
   "outputs": [
    {
     "data": {
      "application/vnd.jupyter.widget-view+json": {
       "model_id": "f7a12c25452445fab50e7fd2e79f2e27",
       "version_major": 2,
       "version_minor": 0
      },
      "text/plain": [
       "NGLWidget(max_frame=389)"
      ]
     },
     "metadata": {},
     "output_type": "display_data"
    }
   ],
   "source": [
    "t = nv.MDTrajTrajectory(traj)\n",
    "view = nv.NGLWidget(t)\n",
    "view"
   ]
  }
 ],
 "metadata": {
  "kernelspec": {
   "display_name": "Python (qaa-3.9)",
   "language": "python",
   "name": "qaa-3.9"
  },
  "language_info": {
   "codemirror_mode": {
    "name": "ipython",
    "version": 3
   },
   "file_extension": ".py",
   "mimetype": "text/x-python",
   "name": "python",
   "nbconvert_exporter": "python",
   "pygments_lexer": "ipython3",
   "version": "3.9.6"
  }
 },
 "nbformat": 4,
 "nbformat_minor": 4
}
